{
 "cells": [
  {
   "cell_type": "markdown",
   "id": "47430d5e",
   "metadata": {},
   "source": [
    "### Import libraries"
   ]
  },
  {
   "cell_type": "code",
   "execution_count": 1,
   "id": "5626ec80",
   "metadata": {},
   "outputs": [],
   "source": [
    "import numpy as np\n",
    "import matplotlib.pyplot as plt\n",
    "import pandas as pd\n",
    "import cobra\n",
    "from cobra.io import read_sbml_model,save_json_model"
   ]
  },
  {
   "cell_type": "markdown",
   "id": "b22620ad",
   "metadata": {},
   "source": [
    "### Load xml model + screen exchanges"
   ]
  },
  {
   "cell_type": "code",
   "execution_count": 2,
   "id": "9cc92472",
   "metadata": {},
   "outputs": [],
   "source": [
    "mini_fbc2_path = \"iCN1361.xml\" ## Change filename to run a different model\n",
    "model = read_sbml_model(mini_fbc2_path)"
   ]
  },
  {
   "cell_type": "code",
   "execution_count": 3,
   "id": "fd37268d",
   "metadata": {},
   "outputs": [],
   "source": [
    "## Get all metabolites and reactions in the model to check for desired substrates\n",
    "metabolite_ids = [i.id for i in model.metabolites]\n",
    "reaction_ids = [r.id for r in model.reactions]"
   ]
  },
  {
   "cell_type": "code",
   "execution_count": 4,
   "id": "6e7ff70a",
   "metadata": {},
   "outputs": [],
   "source": [
    "### Get all exchange reactions in the model\n",
    "\n",
    "exchange_reactions = []\n",
    "for rxn in reaction_ids:\n",
    "    if('EX_' in rxn):\n",
    "        exchange_reactions.append(rxn)"
   ]
  },
  {
   "cell_type": "code",
   "execution_count": 10,
   "id": "3614a22e",
   "metadata": {},
   "outputs": [
    {
     "data": {
      "text/html": [
       "<strong><em>Optimal</em> solution with objective value 13.899</strong><br><div>\n",
       "<style scoped>\n",
       "    .dataframe tbody tr th:only-of-type {\n",
       "        vertical-align: middle;\n",
       "    }\n",
       "\n",
       "    .dataframe tbody tr th {\n",
       "        vertical-align: top;\n",
       "    }\n",
       "\n",
       "    .dataframe thead th {\n",
       "        text-align: right;\n",
       "    }\n",
       "</style>\n",
       "<table border=\"1\" class=\"dataframe\">\n",
       "  <thead>\n",
       "    <tr style=\"text-align: right;\">\n",
       "      <th></th>\n",
       "      <th>fluxes</th>\n",
       "      <th>reduced_costs</th>\n",
       "    </tr>\n",
       "  </thead>\n",
       "  <tbody>\n",
       "    <tr>\n",
       "      <th>R_RXN_12508</th>\n",
       "      <td>0.000000</td>\n",
       "      <td>0.000000e+00</td>\n",
       "    </tr>\n",
       "    <tr>\n",
       "      <th>EX_TYR_e</th>\n",
       "      <td>-20.000000</td>\n",
       "      <td>-2.388146e-02</td>\n",
       "    </tr>\n",
       "    <tr>\n",
       "      <th>R_RXN_8899</th>\n",
       "      <td>0.000000</td>\n",
       "      <td>-4.049995e-18</td>\n",
       "    </tr>\n",
       "    <tr>\n",
       "      <th>R_SHIKIMATE_5_DEHYDROGENASE_RXN</th>\n",
       "      <td>0.000000</td>\n",
       "      <td>2.388146e-01</td>\n",
       "    </tr>\n",
       "    <tr>\n",
       "      <th>R_NAG6PDEACET_RXN</th>\n",
       "      <td>20.000000</td>\n",
       "      <td>-3.577906e-19</td>\n",
       "    </tr>\n",
       "    <tr>\n",
       "      <th>...</th>\n",
       "      <td>...</td>\n",
       "      <td>...</td>\n",
       "    </tr>\n",
       "    <tr>\n",
       "      <th>EX_NO_e</th>\n",
       "      <td>0.000000</td>\n",
       "      <td>0.000000e+00</td>\n",
       "    </tr>\n",
       "    <tr>\n",
       "      <th>R_OCTAPRENYL_METHYL_METHOXY_BENZOQ_OH_RXN_AN</th>\n",
       "      <td>0.057347</td>\n",
       "      <td>8.658505e-17</td>\n",
       "    </tr>\n",
       "    <tr>\n",
       "      <th>R_RXN_21483</th>\n",
       "      <td>0.067857</td>\n",
       "      <td>2.775558e-16</td>\n",
       "    </tr>\n",
       "    <tr>\n",
       "      <th>R_GLYCOLATEDEHYDRO_RXN</th>\n",
       "      <td>0.094036</td>\n",
       "      <td>-2.220446e-16</td>\n",
       "    </tr>\n",
       "    <tr>\n",
       "      <th>R_15120_RXN_NADP</th>\n",
       "      <td>0.000000</td>\n",
       "      <td>-7.440686e-17</td>\n",
       "    </tr>\n",
       "  </tbody>\n",
       "</table>\n",
       "<p>1292 rows × 2 columns</p>\n",
       "</div>"
      ],
      "text/plain": [
       "<Solution 13.899 at 0x294e71400>"
      ]
     },
     "execution_count": 10,
     "metadata": {},
     "output_type": "execute_result"
    }
   ],
   "source": [
    "### List of all substrates and corresponding reactions to screen for growth\n",
    "screening_substrates = ['M_FORMATE','M_D_LACTATE','M_L_LACTATE','M_AMMONIUM']\n",
    "screening_uptakes = ['EX_FORMATE_e','EX_D_LACTATE_e','EX_L_LACTATE_e','EX_AMMONIUM_e']\n",
    "\n",
    "\n",
    "with model:\n",
    "    \n",
    "    # prevent fructose uptake\n",
    "    model.reactions.get_by_id('EX_BETA_D_FRUCTOSE_e').upper_bound=0\n",
    "    model.reactions.get_by_id('EX_BETA_D_FRUCTOSE_e').lower_bound=0\n",
    "    \n",
    "    for uptake in screening_uptakes:\n",
    "        model.reactions.get_by_id(uptake).lower_bound = -100\n",
    "        model.reactions.get_by_id(uptake).upper_bound = 1\n",
    "        \n",
    "    #prevent any D_Lactate consumption\n",
    "    model.reactions.get_by_id('EX_D_LACTATE_e').upper_bound=0\n",
    "    model.reactions.get_by_id('EX_D_LACTATE_e').lower_bound=0\n",
    "    \n",
    "    ##limit ammonia\n",
    "    '''\n",
    "    Uptake = 0 returns 0 biomass since there is no other 'N' source, so add in uptake of other exchanges\n",
    "    '''\n",
    "    model.reactions.get_by_id('EX_AMMONIUM_e').lower_bound=0\n",
    "    \n",
    "    # Checking if any of the amino acid uptakes results in N\n",
    "    for rxn in exchange_reactions:\n",
    "        model.reactions.get_by_id(rxn).lower_bound = -20\n",
    "    \n",
    "    #Solve for biomass\n",
    "    soln = model.optimize()\n",
    "    \n",
    "soln"
   ]
  },
  {
   "cell_type": "code",
   "execution_count": 12,
   "id": "59e2fc10",
   "metadata": {},
   "outputs": [
    {
     "data": {
      "text/plain": [
       "EX_FORMATE_e                1.000000\n",
       "EX_PHE_e                   54.864431\n",
       "EX_VAL_e                   20.343327\n",
       "EX_SUC_e                  169.223517\n",
       "EX_PROTON_e               124.287106\n",
       "EX_ACET_e                 372.643940\n",
       "EX_CARBON_DIOXIDE_e       339.233463\n",
       "EX_HYDROGEN_MOLECULE_e     37.824914\n",
       "EX_Pi_e                    27.639046\n",
       "EX_CARBON_MONOXIDE_e        0.098740\n",
       "EX_UREA_e                  66.708275\n",
       "EX_HYPOXANTHINE_e          14.898878\n",
       "EX_CH33ADO_e                0.098740\n",
       "EX_NITROGEN_MOLECULE_e     20.000000\n",
       "EX_ILE_e                   51.820431\n",
       "Name: fluxes, dtype: float64"
      ]
     },
     "execution_count": 12,
     "metadata": {},
     "output_type": "execute_result"
    }
   ],
   "source": [
    "### Check which exchanges are being uptaken for growth\n",
    "optimal_exchange_fluxes = soln.fluxes.loc[exchange_reactions]\n",
    "optimal_exchange_fluxes.loc[optimal_exchange_fluxes>0]"
   ]
  },
  {
   "cell_type": "code",
   "execution_count": 7,
   "id": "8d6878ec",
   "metadata": {},
   "outputs": [],
   "source": [
    "#pfba_solution = cobra.flux_analysis.pfba(model)"
   ]
  },
  {
   "cell_type": "code",
   "execution_count": 15,
   "id": "aed25414",
   "metadata": {},
   "outputs": [
    {
     "data": {
      "text/html": [
       "\n",
       "        <table>\n",
       "            <tr>\n",
       "                <td><strong>Reaction identifier</strong></td><td>EX_HYPOXANTHINE_e</td>\n",
       "            </tr><tr>\n",
       "                <td><strong>Name</strong></td><td>HYPOXANTHINE transporter</td>\n",
       "            </tr><tr>\n",
       "                <td><strong>Memory address</strong></td>\n",
       "                <td>0x29872cdc0</td>\n",
       "            </tr><tr>\n",
       "                <td><strong>Stoichiometry</strong></td>\n",
       "                <td>\n",
       "                    <p style='text-align:right'>M_HYPOXANTHINE --></p>\n",
       "                    <p style='text-align:right'>hypoxanthine --></p>\n",
       "                </td>\n",
       "            </tr><tr>\n",
       "                <td><strong>GPR</strong></td><td></td>\n",
       "            </tr><tr>\n",
       "                <td><strong>Lower bound</strong></td><td>0.0</td>\n",
       "            </tr><tr>\n",
       "                <td><strong>Upper bound</strong></td><td>1000.0</td>\n",
       "            </tr>\n",
       "        </table>\n",
       "        "
      ],
      "text/plain": [
       "<Reaction EX_HYPOXANTHINE_e at 0x29872cdc0>"
      ]
     },
     "execution_count": 15,
     "metadata": {},
     "output_type": "execute_result"
    }
   ],
   "source": [
    "model.reactions.get_by_id('EX_HYPOXANTHINE_e')"
   ]
  },
  {
   "cell_type": "code",
   "execution_count": null,
   "id": "e99b1011",
   "metadata": {},
   "outputs": [],
   "source": []
  }
 ],
 "metadata": {
  "kernelspec": {
   "display_name": "Python 3 (ipykernel)",
   "language": "python",
   "name": "python3"
  },
  "language_info": {
   "codemirror_mode": {
    "name": "ipython",
    "version": 3
   },
   "file_extension": ".py",
   "mimetype": "text/x-python",
   "name": "python",
   "nbconvert_exporter": "python",
   "pygments_lexer": "ipython3",
   "version": "3.9.16"
  }
 },
 "nbformat": 4,
 "nbformat_minor": 5
}
